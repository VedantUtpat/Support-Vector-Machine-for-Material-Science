{
 "cells": [
  {
   "cell_type": "code",
   "execution_count": 1,
   "id": "23631a21",
   "metadata": {},
   "outputs": [],
   "source": [
    "import numpy as np\n",
    "import pandas as pd\n",
    "import keras\n",
    "import tensorflow\n",
    "\n",
    "from sklearn.ensemble import RandomForestRegressor\n",
    "from sklearn import svm"
   ]
  },
  {
   "cell_type": "code",
   "execution_count": 2,
   "id": "ba1511eb",
   "metadata": {},
   "outputs": [],
   "source": [
    "dataset=pd.read_csv('Allprop1.csv')"
   ]
  },
  {
   "cell_type": "code",
   "execution_count": 3,
   "id": "705ca829",
   "metadata": {},
   "outputs": [
    {
     "data": {
      "text/html": [
       "<div>\n",
       "<style scoped>\n",
       "    .dataframe tbody tr th:only-of-type {\n",
       "        vertical-align: middle;\n",
       "    }\n",
       "\n",
       "    .dataframe tbody tr th {\n",
       "        vertical-align: top;\n",
       "    }\n",
       "\n",
       "    .dataframe thead th {\n",
       "        text-align: right;\n",
       "    }\n",
       "</style>\n",
       "<table border=\"1\" class=\"dataframe\">\n",
       "  <thead>\n",
       "    <tr style=\"text-align: right;\">\n",
       "      <th></th>\n",
       "      <th>Al</th>\n",
       "      <th>Cu</th>\n",
       "      <th>Si</th>\n",
       "      <th>Fe</th>\n",
       "      <th>Mn</th>\n",
       "      <th>zn</th>\n",
       "      <th>Ti</th>\n",
       "      <th>Mg</th>\n",
       "      <th>Residuals</th>\n",
       "      <th>(UTS)</th>\n",
       "      <th>Tensile Strength: Yield (Proof)</th>\n",
       "      <th>Brinell Hardness</th>\n",
       "      <th>Fatigue Strength</th>\n",
       "    </tr>\n",
       "  </thead>\n",
       "  <tbody>\n",
       "    <tr>\n",
       "      <th>count</th>\n",
       "      <td>41.000000</td>\n",
       "      <td>41.000000</td>\n",
       "      <td>41.000000</td>\n",
       "      <td>41.000000</td>\n",
       "      <td>41.000000</td>\n",
       "      <td>41.000000</td>\n",
       "      <td>41.000000</td>\n",
       "      <td>41.000000</td>\n",
       "      <td>41.000000</td>\n",
       "      <td>41.000000</td>\n",
       "      <td>41.000000</td>\n",
       "      <td>41.000000</td>\n",
       "      <td>41.000000</td>\n",
       "    </tr>\n",
       "    <tr>\n",
       "      <th>mean</th>\n",
       "      <td>88.469512</td>\n",
       "      <td>1.618293</td>\n",
       "      <td>6.150000</td>\n",
       "      <td>0.497927</td>\n",
       "      <td>0.200000</td>\n",
       "      <td>1.098171</td>\n",
       "      <td>0.094512</td>\n",
       "      <td>1.470732</td>\n",
       "      <td>0.134146</td>\n",
       "      <td>242.682927</td>\n",
       "      <td>148.682927</td>\n",
       "      <td>67.536585</td>\n",
       "      <td>107.414634</td>\n",
       "    </tr>\n",
       "    <tr>\n",
       "      <th>std</th>\n",
       "      <td>5.200960</td>\n",
       "      <td>2.294552</td>\n",
       "      <td>5.534692</td>\n",
       "      <td>0.307979</td>\n",
       "      <td>0.124122</td>\n",
       "      <td>1.944965</td>\n",
       "      <td>0.060599</td>\n",
       "      <td>2.262921</td>\n",
       "      <td>0.075778</td>\n",
       "      <td>57.053676</td>\n",
       "      <td>52.321334</td>\n",
       "      <td>17.083761</td>\n",
       "      <td>40.621408</td>\n",
       "    </tr>\n",
       "    <tr>\n",
       "      <th>min</th>\n",
       "      <td>76.150000</td>\n",
       "      <td>0.000000</td>\n",
       "      <td>0.075000</td>\n",
       "      <td>0.065000</td>\n",
       "      <td>0.000000</td>\n",
       "      <td>0.000000</td>\n",
       "      <td>0.000000</td>\n",
       "      <td>0.050000</td>\n",
       "      <td>0.000000</td>\n",
       "      <td>130.000000</td>\n",
       "      <td>50.000000</td>\n",
       "      <td>41.000000</td>\n",
       "      <td>48.000000</td>\n",
       "    </tr>\n",
       "    <tr>\n",
       "      <th>25%</th>\n",
       "      <td>85.400000</td>\n",
       "      <td>0.100000</td>\n",
       "      <td>0.175000</td>\n",
       "      <td>0.250000</td>\n",
       "      <td>0.150000</td>\n",
       "      <td>0.075000</td>\n",
       "      <td>0.050000</td>\n",
       "      <td>0.050000</td>\n",
       "      <td>0.075000</td>\n",
       "      <td>200.000000</td>\n",
       "      <td>110.000000</td>\n",
       "      <td>56.000000</td>\n",
       "      <td>70.000000</td>\n",
       "    </tr>\n",
       "    <tr>\n",
       "      <th>50%</th>\n",
       "      <td>89.750000</td>\n",
       "      <td>0.300000</td>\n",
       "      <td>5.500000</td>\n",
       "      <td>0.500000</td>\n",
       "      <td>0.175000</td>\n",
       "      <td>0.250000</td>\n",
       "      <td>0.125000</td>\n",
       "      <td>0.500000</td>\n",
       "      <td>0.100000</td>\n",
       "      <td>250.000000</td>\n",
       "      <td>148.000000</td>\n",
       "      <td>60.000000</td>\n",
       "      <td>105.000000</td>\n",
       "    </tr>\n",
       "    <tr>\n",
       "      <th>75%</th>\n",
       "      <td>92.400000</td>\n",
       "      <td>3.500000</td>\n",
       "      <td>9.500000</td>\n",
       "      <td>0.650000</td>\n",
       "      <td>0.250000</td>\n",
       "      <td>1.250000</td>\n",
       "      <td>0.125000</td>\n",
       "      <td>1.000000</td>\n",
       "      <td>0.250000</td>\n",
       "      <td>290.000000</td>\n",
       "      <td>170.000000</td>\n",
       "      <td>80.000000</td>\n",
       "      <td>140.000000</td>\n",
       "    </tr>\n",
       "    <tr>\n",
       "      <th>max</th>\n",
       "      <td>95.100000</td>\n",
       "      <td>10.000000</td>\n",
       "      <td>19.000000</td>\n",
       "      <td>1.250000</td>\n",
       "      <td>0.500000</td>\n",
       "      <td>7.000000</td>\n",
       "      <td>0.200000</td>\n",
       "      <td>8.000000</td>\n",
       "      <td>0.250000</td>\n",
       "      <td>330.000000</td>\n",
       "      <td>270.000000</td>\n",
       "      <td>120.000000</td>\n",
       "      <td>190.000000</td>\n",
       "    </tr>\n",
       "  </tbody>\n",
       "</table>\n",
       "</div>"
      ],
      "text/plain": [
       "              Al         Cu         Si         Fe         Mn         zn  \\\n",
       "count  41.000000  41.000000  41.000000  41.000000  41.000000  41.000000   \n",
       "mean   88.469512   1.618293   6.150000   0.497927   0.200000   1.098171   \n",
       "std     5.200960   2.294552   5.534692   0.307979   0.124122   1.944965   \n",
       "min    76.150000   0.000000   0.075000   0.065000   0.000000   0.000000   \n",
       "25%    85.400000   0.100000   0.175000   0.250000   0.150000   0.075000   \n",
       "50%    89.750000   0.300000   5.500000   0.500000   0.175000   0.250000   \n",
       "75%    92.400000   3.500000   9.500000   0.650000   0.250000   1.250000   \n",
       "max    95.100000  10.000000  19.000000   1.250000   0.500000   7.000000   \n",
       "\n",
       "              Ti         Mg  Residuals       (UTS)  \\\n",
       "count  41.000000  41.000000  41.000000   41.000000   \n",
       "mean    0.094512   1.470732   0.134146  242.682927   \n",
       "std     0.060599   2.262921   0.075778   57.053676   \n",
       "min     0.000000   0.050000   0.000000  130.000000   \n",
       "25%     0.050000   0.050000   0.075000  200.000000   \n",
       "50%     0.125000   0.500000   0.100000  250.000000   \n",
       "75%     0.125000   1.000000   0.250000  290.000000   \n",
       "max     0.200000   8.000000   0.250000  330.000000   \n",
       "\n",
       "       Tensile Strength: Yield (Proof)  Brinell Hardness  Fatigue Strength  \n",
       "count                        41.000000         41.000000         41.000000  \n",
       "mean                        148.682927         67.536585        107.414634  \n",
       "std                          52.321334         17.083761         40.621408  \n",
       "min                          50.000000         41.000000         48.000000  \n",
       "25%                         110.000000         56.000000         70.000000  \n",
       "50%                         148.000000         60.000000        105.000000  \n",
       "75%                         170.000000         80.000000        140.000000  \n",
       "max                         270.000000        120.000000        190.000000  "
      ]
     },
     "execution_count": 3,
     "metadata": {},
     "output_type": "execute_result"
    }
   ],
   "source": [
    "dataset.describe()"
   ]
  },
  {
   "cell_type": "code",
   "execution_count": 4,
   "id": "bfff10dc",
   "metadata": {},
   "outputs": [],
   "source": [
    "X=dataset.drop(columns=['(UTS)','Tensile Strength: Yield (Proof)','Brinell Hardness','Fatigue Strength'])\n",
    "Y=dataset[['Fatigue Strength']]"
   ]
  },
  {
   "cell_type": "code",
   "execution_count": 5,
   "id": "c3658f0f",
   "metadata": {},
   "outputs": [],
   "source": [
    "from sklearn.model_selection import train_test_split as ts\n",
    "xtrain,xtest,ytrain,ytest= ts(X,Y,test_size=0.30,random_state=109)"
   ]
  },
  {
   "cell_type": "code",
   "execution_count": 6,
   "id": "797baf08",
   "metadata": {},
   "outputs": [
    {
     "name": "stderr",
     "output_type": "stream",
     "text": [
      "C:\\Users\\Vedant\\.conda\\envs\\ANN\\lib\\site-packages\\sklearn\\utils\\validation.py:993: DataConversionWarning: A column-vector y was passed when a 1d array was expected. Please change the shape of y to (n_samples, ), for example using ravel().\n",
      "  y = column_or_1d(y, warn=True)\n"
     ]
    },
    {
     "data": {
      "text/plain": [
       "SVR(kernel='linear')"
      ]
     },
     "execution_count": 6,
     "metadata": {},
     "output_type": "execute_result"
    }
   ],
   "source": [
    "sm= svm.SVR(kernel='linear')\n",
    "sm.fit(xtrain,ytrain)"
   ]
  },
  {
   "cell_type": "code",
   "execution_count": 7,
   "id": "e7d85c60",
   "metadata": {},
   "outputs": [],
   "source": [
    "rf= RandomForestRegressor(n_estimators=10, random_state=1)"
   ]
  },
  {
   "cell_type": "code",
   "execution_count": 8,
   "id": "6b7a0179",
   "metadata": {},
   "outputs": [
    {
     "name": "stderr",
     "output_type": "stream",
     "text": [
      "C:\\Users\\Vedant\\AppData\\Local\\Temp\\ipykernel_15572\\2707660161.py:1: DataConversionWarning: A column-vector y was passed when a 1d array was expected. Please change the shape of y to (n_samples,), for example using ravel().\n",
      "  rf.fit(xtrain,ytrain)\n"
     ]
    },
    {
     "data": {
      "text/plain": [
       "RandomForestRegressor(n_estimators=10, random_state=1)"
      ]
     },
     "execution_count": 8,
     "metadata": {},
     "output_type": "execute_result"
    }
   ],
   "source": [
    "\n",
    "rf.fit(xtrain,ytrain)"
   ]
  },
  {
   "cell_type": "code",
   "execution_count": 9,
   "id": "03d1200c",
   "metadata": {},
   "outputs": [],
   "source": [
    "test_data = np.array([88.25,7,2,0.6,0.3,0.125,0.125,0.05,0.25])"
   ]
  },
  {
   "cell_type": "code",
   "execution_count": 10,
   "id": "ae7a9db3",
   "metadata": {},
   "outputs": [
    {
     "name": "stderr",
     "output_type": "stream",
     "text": [
      "C:\\Users\\Vedant\\.conda\\envs\\ANN\\lib\\site-packages\\sklearn\\base.py:450: UserWarning: X does not have valid feature names, but RandomForestRegressor was fitted with feature names\n",
      "  warnings.warn(\n",
      "C:\\Users\\Vedant\\.conda\\envs\\ANN\\lib\\site-packages\\sklearn\\base.py:450: UserWarning: X does not have valid feature names, but SVR was fitted with feature names\n",
      "  warnings.warn(\n"
     ]
    }
   ],
   "source": [
    "pred_rf = rf.predict(test_data.reshape(1,9))\n",
    "pred_svm = sm.predict(test_data.reshape(1,9))"
   ]
  },
  {
   "cell_type": "code",
   "execution_count": 11,
   "id": "07e13664",
   "metadata": {},
   "outputs": [
    {
     "name": "stdout",
     "output_type": "stream",
     "text": [
      "pred_rf = [95.3] pred_svm= [92.90010568]\n"
     ]
    }
   ],
   "source": [
    "print ('pred_rf =',pred_rf, 'pred_svm=',pred_svm)"
   ]
  },
  {
   "cell_type": "code",
   "execution_count": 12,
   "id": "df7f9a8d",
   "metadata": {},
   "outputs": [
    {
     "name": "stdout",
     "output_type": "stream",
     "text": [
      "Mean Absolute Percentage Error for Random Forest: 0.1538732693867908\n",
      "Mean Absolute Percentage Error for SVM: 0.3316437558732017\n"
     ]
    }
   ],
   "source": [
    "from sklearn import metrics\n",
    "\n",
    "\n",
    "ytest_predict_rf =rf.predict(X)\n",
    "ytest_predict_sm =sm.predict(X)\n",
    "print('Mean Absolute Percentage Error for Random Forest:', metrics.mean_absolute_percentage_error(Y,ytest_predict_rf))\n",
    "print('Mean Absolute Percentage Error for SVM:', metrics.mean_absolute_percentage_error(Y,ytest_predict_sm))"
   ]
  },
  {
   "cell_type": "code",
   "execution_count": 13,
   "id": "a8810f64",
   "metadata": {},
   "outputs": [],
   "source": [
    "import matplotlib.pyplot as pl"
   ]
  },
  {
   "cell_type": "code",
   "execution_count": 14,
   "id": "0c71f48a",
   "metadata": {},
   "outputs": [
    {
     "data": {
      "text/plain": [
       "<matplotlib.collections.PathCollection at 0x24d5dfa89d0>"
      ]
     },
     "execution_count": 14,
     "metadata": {},
     "output_type": "execute_result"
    },
    {
     "data": {
      "image/png": "[encoded data removed]",
      "text/plain": [
       "<Figure size 432x288 with 1 Axes>"
      ]
     },
     "metadata": {
      "needs_background": "light"
     },
     "output_type": "display_data"
    }
   ],
   "source": [
    "pl.scatter(Y,ytest_predict_rf)\n"
   ]
  },
  {
   "cell_type": "code",
   "execution_count": 15,
   "id": "ee8097f7",
   "metadata": {},
   "outputs": [
    {
     "data": {
      "text/plain": [
       "<matplotlib.collections.PathCollection at 0x24d5e747430>"
      ]
     },
     "execution_count": 15,
     "metadata": {},
     "output_type": "execute_result"
    },
    {
     "data": {
      "image/png": "[encoded data removed]",
      "text/plain": [
       "<Figure size 432x288 with 1 Axes>"
      ]
     },
     "metadata": {
      "needs_background": "light"
     },
     "output_type": "display_data"
    }
   ],
   "source": [
    "pl.scatter(Y,ytest_predict_sm)"
   ]
  },
  {
   "cell_type": "code",
   "execution_count": 16,
   "id": "7f0bca29",
   "metadata": {},
   "outputs": [],
   "source": [
    " import pickle\n",
    "\n",
    "    \n",
    "saved_model_rf = open('RF_fatigue', 'wb')\n",
    "pickle.dump(rf, saved_model_rf)  \n"
   ]
  },
  {
   "cell_type": "code",
   "execution_count": 17,
   "id": "96ca4d49",
   "metadata": {},
   "outputs": [],
   "source": [
    "    \n",
    "saved_model_svm = open('SVM_fatigue', 'wb')\n",
    "pickle.dump(sm, saved_model_svm)  \n"
   ]
  },
  {
   "cell_type": "code",
   "execution_count": null,
   "id": "cfd27110",
   "metadata": {},
   "outputs": [],
   "source": []
  }
 ],
 "metadata": {
  "kernelspec": {
   "display_name": "Python 3 (ipykernel)",
   "language": "python",
   "name": "python3"
  },
  "language_info": {
   "codemirror_mode": {
    "name": "ipython",
    "version": 3
   },
   "file_extension": ".py",
   "mimetype": "text/x-python",
   "name": "python",
   "nbconvert_exporter": "python",
   "pygments_lexer": "ipython3",
   "version": "3.9.12"
  }
 },
 "nbformat": 4,
 "nbformat_minor": 5
}
